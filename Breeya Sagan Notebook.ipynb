{
 "cells": [
  {
   "cell_type": "code",
   "execution_count": 21,
   "metadata": {},
   "outputs": [
    {
     "name": "stdout",
     "output_type": "stream",
     "text": [
      "testing notebook\n"
     ]
    }
   ],
   "source": [
    "print(\"testing notebook\")\n",
    "\n"
   ]
  },
  {
   "cell_type": "code",
   "execution_count": 22,
   "metadata": {},
   "outputs": [
    {
     "ename": "SyntaxError",
     "evalue": "invalid syntax (1651130638.py, line 3)",
     "output_type": "error",
     "traceback": [
      "\u001b[0;36m  Cell \u001b[0;32mIn[22], line 3\u001b[0;36m\u001b[0m\n\u001b[0;31m    website that introduces how to work with fastQ files\u001b[0m\n\u001b[0m            ^\u001b[0m\n\u001b[0;31mSyntaxError\u001b[0m\u001b[0;31m:\u001b[0m invalid syntax\n"
     ]
    }
   ],
   "source": [
    "20240408 \n",
    "\n",
    "#website that introduces how to work with fastQ files\n",
    "https://www.youtube.com/watch?v=dYvgbgEjwLs&pp=ygUlaG93IHRvIHJlcHJvY2VzcyBkYXRhIGZyb20gZmFzdHEgZmlsZQ%3D%3D#\n",
    "https://www.youtube.com/watch?v=2lH4uxHCeJA&list=PLNteKiuWD0-L6zFGNHSNjYYJA3xljIeu2"
   ]
  },
  {
   "cell_type": "code",
   "execution_count": 33,
   "metadata": {},
   "outputs": [
    {
     "name": "stdout",
     "output_type": "stream",
     "text": [
      "yes!\n",
      "The DNA sequence has a GC content of 51.724137931034484 %\n"
     ]
    },
    {
     "data": {
      "text/plain": [
       "<function __main__.gcContent(DNA)>"
      ]
     },
     "execution_count": 33,
     "metadata": {},
     "output_type": "execute_result"
    }
   ],
   "source": [
    "# Examining DNA sequence Content with basic python \n",
    "\n",
    "DNA = 'GCTGACTGATCGATGCATGCTAGCTAGCT'\n",
    "\n",
    "#HOW DO YOU FIND IF THE SEQUENCE HAS A PARTICULAR SUBSEQUENCE?\n",
    "\n",
    "'CG' in DNA\n",
    "\n",
    "#Answer will be true\n",
    "\n",
    "if 'CG' in DNA:print('yes!')\n",
    "    #Reminder that if statements require a colon\n",
    "\n",
    "\n",
    "DNA.count('AT')\n",
    "\n",
    "#AT is 5\n",
    "\n",
    "#Computing GC content with python\n",
    "\n",
    "def gcContent(DNA):\n",
    "    totalC = DNA.count('C')\n",
    "    totalG = DNA.count('G')\n",
    "    gcContent = 100*(totalC + totalG)/len(DNA)\n",
    "    return gcContent\n",
    "\n",
    "print(\"The DNA sequence has a GC content of\", gcContent(DNA), \"%\")\n",
    "       \n",
    "gcContent      \n",
    "\n",
    "#answer is 51.724137931034484 %"
   ]
  },
  {
   "cell_type": "code",
   "execution_count": 59,
   "metadata": {},
   "outputs": [
    {
     "name": "stdout",
     "output_type": "stream",
     "text": [
      "The number of 'ATG' occurrences is: 4\n",
      "An 'ATG' match is located between 12 and 15\n",
      "An 'ATG' match is located between 16 and 19\n",
      "An 'ATG' match is located between 27 and 30\n",
      "An 'ATG' match is located between 32 and 35\n"
     ]
    }
   ],
   "source": [
    "#next level #Loop through a DNA sequence and find a pattern\n",
    "\n",
    "DNA = 'GCTGACTGATCGATGCATGCTAGCTAGATGCTATG'\n",
    "\n",
    "import re\n",
    "# re stands for Regular Expression\n",
    "\n",
    "# Print the number of 'ATG' occurrences\n",
    "print(f\"The number of 'ATG' occurrences is: {len(matches_list)}\")\n",
    "\n",
    "matches = re.finditer('ATG', DNA)\n",
    "matches_list = list(matches) # Convert iterator to a list to check its length\n",
    "if matches_list: \n",
    "    for match in matches_list:\n",
    "        print(f\"An 'ATG' match is located between {match.start()} and {match.end()}\")\n",
    "else:\n",
    "    print(\"No 'ATG' matches found.\")\n"
   ]
  }
 ],
 "metadata": {
  "kernelspec": {
   "display_name": "Python 3",
   "language": "python",
   "name": "python3"
  },
  "language_info": {
   "codemirror_mode": {
    "name": "ipython",
    "version": 3
   },
   "file_extension": ".py",
   "mimetype": "text/x-python",
   "name": "python",
   "nbconvert_exporter": "python",
   "pygments_lexer": "ipython3",
   "version": "3.11.8"
  }
 },
 "nbformat": 4,
 "nbformat_minor": 2
}
