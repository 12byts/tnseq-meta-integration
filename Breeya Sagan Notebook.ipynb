{
 "cells": [
  {
   "cell_type": "code",
   "execution_count": 1,
   "metadata": {},
   "outputs": [
    {
     "name": "stdout",
     "output_type": "stream",
     "text": [
      "testing notebook\n"
     ]
    }
   ],
   "source": [
    "print(\"testing notebook\")\n",
    "\n"
   ]
  },
  {
   "cell_type": "markdown",
   "metadata": {},
   "source": [
    "<p align=\"center\"><h1>Monday April 8th</h1></p>"
   ]
  },
  {
   "cell_type": "markdown",
   "metadata": {},
   "source": [
    "# <h3>Tutorials on YouTube</h3>\n",
    "\n",
    "Follow these tutorials to enhance your skills:\n",
    "- **Working with Sequence Data**: Learn the basics of handling genomic sequences.\n",
    "- **Searching for Information & FastQ Files**: Discover how to find relevant scientific data and work with FastQ files.\n",
    "\n",
    "## <h3>Useful Links</h3>\n",
    "- [Tutorial on Sequence Data](https://www.youtube.com/watch?v=dYvgbgEjwLs)\n",
    "- [Tutorial on Searching Information and FastQ Files](https://www.youtube.com/watch?v=2lH4uxHCeJA&list=PLNteKiuWD0-L6zFGNHNSjYYJA3xljeu2)\n"
   ]
  },
  {
   "cell_type": "code",
   "execution_count": 2,
   "metadata": {},
   "outputs": [
    {
     "name": "stdout",
     "output_type": "stream",
     "text": [
      "yes!\n",
      "The DNA sequence has a GC content of 51.724137931034484 %\n"
     ]
    },
    {
     "data": {
      "text/plain": [
       "<function __main__.gcContent(DNA)>"
      ]
     },
     "execution_count": 2,
     "metadata": {},
     "output_type": "execute_result"
    }
   ],
   "source": [
    "# Examining DNA sequence Content with basic python \n",
    "\n",
    "DNA = 'GCTGACTGATCGATGCATGCTAGCTAGCT'\n",
    "\n",
    "#HOW DO YOU FIND IF THE SEQUENCE HAS A PARTICULAR SUBSEQUENCE?\n",
    "\n",
    "'CG' in DNA\n",
    "\n",
    "#Answer will be true\n",
    "\n",
    "if 'CG' in DNA:print('yes!')\n",
    "    #Reminder that if statements require a colon\n",
    "\n",
    "\n",
    "DNA.count('AT')\n",
    "\n",
    "#AT is 5\n",
    "\n",
    "#Computing GC content with python\n",
    "\n",
    "def gcContent(DNA):\n",
    "    totalC = DNA.count('C')\n",
    "    totalG = DNA.count('G')\n",
    "    gcContent = 100*(totalC + totalG)/len(DNA)\n",
    "    return gcContent\n",
    "\n",
    "print(\"The DNA sequence has a GC content of\", gcContent(DNA), \"%\")\n",
    "       \n",
    "gcContent      \n",
    "\n",
    "#answer is 51.724137931034484 %"
   ]
  },
  {
   "cell_type": "code",
   "execution_count": 3,
   "metadata": {},
   "outputs": [
    {
     "ename": "NameError",
     "evalue": "name 'matches_list' is not defined",
     "output_type": "error",
     "traceback": [
      "\u001b[0;31m---------------------------------------------------------------------------\u001b[0m",
      "\u001b[0;31mNameError\u001b[0m                                 Traceback (most recent call last)",
      "Cell \u001b[0;32mIn[3], line 9\u001b[0m\n\u001b[1;32m      5\u001b[0m \u001b[38;5;28;01mimport\u001b[39;00m \u001b[38;5;21;01mre\u001b[39;00m\n\u001b[1;32m      6\u001b[0m \u001b[38;5;66;03m# re stands for Regular Expression\u001b[39;00m\n\u001b[1;32m      7\u001b[0m \n\u001b[1;32m      8\u001b[0m \u001b[38;5;66;03m# Print the number of 'ATG' occurrences\u001b[39;00m\n\u001b[0;32m----> 9\u001b[0m \u001b[38;5;28mprint\u001b[39m(\u001b[38;5;124mf\u001b[39m\u001b[38;5;124m\"\u001b[39m\u001b[38;5;124mThe number of \u001b[39m\u001b[38;5;124m'\u001b[39m\u001b[38;5;124mATG\u001b[39m\u001b[38;5;124m'\u001b[39m\u001b[38;5;124m occurrences is: \u001b[39m\u001b[38;5;132;01m{\u001b[39;00m\u001b[38;5;28mlen\u001b[39m(\u001b[43mmatches_list\u001b[49m)\u001b[38;5;132;01m}\u001b[39;00m\u001b[38;5;124m\"\u001b[39m)\n\u001b[1;32m     11\u001b[0m matches \u001b[38;5;241m=\u001b[39m re\u001b[38;5;241m.\u001b[39mfinditer(\u001b[38;5;124m'\u001b[39m\u001b[38;5;124mATG\u001b[39m\u001b[38;5;124m'\u001b[39m, DNA)\n\u001b[1;32m     12\u001b[0m matches_list \u001b[38;5;241m=\u001b[39m \u001b[38;5;28mlist\u001b[39m(matches) \u001b[38;5;66;03m# Convert iterator to a list to check its length\u001b[39;00m\n",
      "\u001b[0;31mNameError\u001b[0m: name 'matches_list' is not defined"
     ]
    }
   ],
   "source": [
    "#Loop through a DNA sequence and find a pattern\n",
    "\n",
    "DNA = 'GCTGACTGATCGATGCATGCTAGCTAGATGCTATG'\n",
    "\n",
    "import re\n",
    "# re stands for Regular Expression\n",
    "\n",
    "# Print the number of 'ATG' occurrences\n",
    "print(f\"The number of 'ATG' occurrences is: {len(matches_list)}\")\n",
    "\n",
    "matches = re.finditer('ATG', DNA)\n",
    "matches_list = list(matches) # Convert iterator to a list to check its length\n",
    "if matches_list: \n",
    "    for match in matches_list:\n",
    "        print(f\"An 'ATG' match is located between {match.start()} and {match.end()}\")\n",
    "else:\n",
    "    print(\"No 'ATG' matches found.\")\n"
   ]
  },
  {
   "cell_type": "markdown",
   "metadata": {},
   "source": [
    "<p align=\"center\"><h1>Wednesday April 10th</h1></p>"
   ]
  },
  {
   "cell_type": "markdown",
   "metadata": {},
   "source": [
    "<h3>A beginner's bioinformatics guide for single-cell RNAseq data analysis</h3>"
   ]
  },
  {
   "cell_type": "markdown",
   "metadata": {},
   "source": [
    "- [Reverse compliment of a sequence](https://www.youtube.com/watch?v=t9C1g6ld-ng&list=PLNteKiuWD0-L6zFGNHSNjYYJA3xljIeu2&index=11)\n",
    "- [Introduction to fastq files](https://www.youtube.com/watch?v=9bN4rWPecmw&t=53s)\n",
    "- [fasta vs fastq](https://www.youtube.com/watch?v=xYEre9DtIqA&t=1s)\n",
    "- [Galaxy training](https://training.galaxyproject.org/training-material/topics/introduction/tutorials/galaxy-intro-101/tutorial.html)\n",
    "\n",
    "\n",
    "Sites to investigate \n",
    "- [parsing Fastq files with Biopython SeqIO moedule](https://www.youtube.com/watch?v=mDEwKw0w1Qk)\n",
    "- [intro to Biopython SeqIO module: Reading Fasta files](https://www.youtube.com/watch?v=Y9POfa_PH-M)\n",
    "- [setup RNA-seq pipeline from scratch: fastq (reads) to counts](https://www.youtube.com/watch?v=lG11JjovJHE&t=1s)"
   ]
  },
  {
   "cell_type": "code",
   "execution_count": null,
   "metadata": {},
   "outputs": [],
   "source": [
    "# compute the reverse compliment of a sequence\n",
    "\n",
    "def complement(DNA):\n",
    "    comp = {'A': 'T', 'C':'G', 'G':'C', 'T':'A'}\n",
    "    compDNA = ''\n",
    "    for b in DNA:\n",
    "        compDNA += comp[b]\n",
    "    return compDNA\n",
    "def reverse (DNA):\n",
    "    return DNA[::-1]\n",
    "\n",
    "def reverse_complement(DNA):\n",
    "    compDNA = complement(DNA)\n",
    "    compDNA = complement(DNA)\n",
    "    revCompDNA = reverse(compDNA)\n",
    "    return revCompDNA \n",
    "\n",
    "DNA = input(\"Please enter a DNA sequence.\")\n",
    "print(\"you have entered\")"
   ]
  },
  {
   "cell_type": "markdown",
   "metadata": {},
   "source": [
    "Fastq files\n",
    "- most of the time sequencing data comes back as a fastq file\n",
    "- First line\n",
    "    - ID is indicated by an '@' symbol\n",
    "        - encodes spot on the plate where the cluster of fragments were\n",
    "Second line\n",
    "    - DNA sequence\n",
    "Third line \n",
    "    - Record ID\n",
    "        - starts with '+' sign\n",
    "Fourth line\n",
    "    - quality score\n",
    "        - encodes information about the probability of an error of that read \n",
    "        - each character refers to a quality score\n",
    "    -  Phred scores\n",
    "        - tells how confident the machine was to identify the correct base\n",
    "            - higher the PHRED score = highly probability that it is correct. \n",
    "        - each score is associated with a character\n",
    "        \n",
    "    \n",
    "\n",
    "\n"
   ]
  },
  {
   "cell_type": "markdown",
   "metadata": {},
   "source": [
    "Fasta files\n",
    "- used to store sequenes (either amino acid or nucleic acid)\n",
    "    - if its a nuclear acid sequence the file could be .fna\n",
    "    - if its a amino acid sequence the file could be .faa\n",
    "- each amino acid is represented by one letter code\n",
    "- divided into parts\n",
    "    - header \n",
    "        - starts with a '>' symbol\n",
    "    - sequence\n",
    "        - can have multiple sequences\n"
   ]
  },
  {
   "cell_type": "markdown",
   "metadata": {},
   "source": [
    "<h3>Intro to Galaxy</h3>\n"
   ]
  },
  {
   "cell_type": "markdown",
   "metadata": {},
   "source": [
    "<h3><p style=\"color:#7393B3;\">Familiarize yourself with the basics of Galaxy</p></h3>  \n",
    "\n",
    "- Learn how to obtain data from external sources\n",
    "- Learn how to run tools\n",
    "- Learn how histories work\n",
    "- Learn how to create a workflow\n",
    "- Learn how to share your work\n",
    "\n",
    "\n",
    "<h3><p style=\"color:#7393B3;\">Question</p></h3>\n",
    "\n",
    "Which coding exon has the highest number of single nucleotide polymorphisms (SNPs) on human chromosome 22?"
   ]
  },
  {
   "cell_type": "markdown",
   "metadata": {},
   "source": [
    "<h3><p style=\"color: #7393B3;\">Upload Data and Start Analysis</p></h3>\n",
    "<p style=\"color:;\">Upload the data and click start to create new datasets.</p>\n",
    "<p style=\"color:;\">You can rename the datasets afterwards.</p>\n",
    "\n",
    "<h3><p style=\"color: #7393B3;\">Find Intersections in BED (Side Panel)</p></h3>\n",
    "<p style=\";\">Use the BED tools \"intersect intervals\" function.</p>\n",
    "<p><p style=\"color: pink;\">This will intersect dataset A with dataset B.</p>\n",
    "\n",
    "<h3><p style=\"color: #7393B3;\">Analysis Steps</h3>\n",
    "<h4>1. Intersect Exons with SNPs</h4>\n",
    "<p style=\"color: pink;\">This step finds overlapping regions between exons and SNPs.</p>\n",
    "\n",
    "<h4>2. Strandedness-Based Calculations </h4>\n",
    "<p style=\"color: teal;\">Analyze overlaps based on the strand orientation (positive or negative) of the features (if applicable).</p>\n",
    "  <p style=\"color: pink;\">This step considers overlaps on either strand.</p>\n",
    "\n",
    "\n",
    "  <h4>3. What should be written to the output file?</h4>\n",
    "   <p style=\"color: teal;\">\"Write the original entry in b......\"</p>\n",
    "\n",
    "  <h4>4. Click Run Tool</h4> \n",
    "   <p style=\"color: pink;\">This will create a new dataset\n",
    "   <br>\n",
    "   This will return the exon and snp information\n",
    "   <br>\n",
    "   Easy to see how many snps per exons it has\n",
    "   <br>\n",
    "   Count lines with unique line exon Ids \n",
    "   <br>\n",
    "   \n",
    "   </p>  \n",
    "\n",
    "\n",
    "\n",
    "<h3><p style=\"color: #7393B3;\"> Find Datamash (Side Panel)</p></h3>\n",
    "\n",
    "<h4>1. Group by feilds</h4>\n",
    "<p style=\"color: teal;\">\"4\"</p>\n",
    "\n",
    "  <p style=\"color: pink;\">what is the column number you are interested in? In this case it would be column 4 because this is where the exon ID is</p>\n",
    "\n",
    "  <h4>2. Operation to perform on each group Type:</h4>\n",
    "<p style=\"color: teal;\">\"count unique values\"</p>\n",
    "<h4>3. On column:</h4>\n",
    "<p style=\"color: teal;\">\"10\"</p>\n",
    "\n",
    "  <p style=\"color: pink;\">This is where the SNP IDs are</p>\n",
    "\n",
    "<h4>4. Run tool:</h4>\n",
    "\n",
    "<p style=\"color: pink;\">This will return a new dataset that contains exon ID and the count of unique snps within the exon. View this new data sheet</p>\n",
    "\n",
    "\n",
    "\n",
    "<h3><p style=\"color: #7393B3;\"> Find Text Manipulation (Side Panel)</p></h3>\n",
    "\n",
    "<h4>1. Sort:</h4>\n",
    "\n",
    "<h4>2. On column:</h4>\n",
    "<p style=\"color: teal;\">\"Column 2\"</p>\n",
    "\n",
    "<h4>3. With flavor:</h4>\n",
    "<p style=\"color: teal;\">\"Desending order\"</p>\n",
    "\n",
    "\n",
    "<p style=\"color: pink;\">This will return a new dataset that contains exon ID and the count of unique snps within the exon in descending order. View this new data sheet. In this dataset the most number of SNPs is 27 on ENST00000253255.7_cds_0_0_chr22_46256561_r </p>\n",
    "\n",
    "\n",
    "<h3><p style=\"color: #7393B3;\"> Find Text Manipulation (Side Panel)</p></h3>\n",
    "\n",
    "<h4>1. Select first:</h4>\n",
    "<p style=\"color: teal;\">\"5\"</p>\n",
    "\n",
    "\n",
    "<p style=\"color: pink;\">This will return a new dataset that contains exon ID with the highest number of SNPS in desending order. Next step is to visualze this in a genome browser. For this we need the start and end coordinates. Which is located in the original files </p>\n",
    "\n",
    "\n",
    "<h3><p style=\"color: #7393B3;\"> Find Join, Subtract, and Group (Side Panel)</p></h3>\n",
    "\n",
    "<h4>1. Compare two datasets:</h4>\n",
    "<p style=\"color: teal;\">\"Compare exons (insert file)\"</p>\n",
    "<h4>2. Using column</h4>\n",
    "<p style=\"color: teal;\">\"column 4\"</p>\n",
    "<h4>3. Against</h4>\n",
    "<p style=\"color: teal;\">\"Select first on data 5 (insert file)\"</p>\n",
    "<p style=\"color: teal;\">\"column 1\"</p>\n",
    "<h4>4. To find </h4>\n",
    "<p style=\"color: teal;\">\"Matching rows of 1st dataset\"</p>\n",
    "<h4>5. Run Tool </h4>\n",
    "\n",
    "<p style=\"color: pink;\">This will return a new dataset that contains exon ID with the highest number of SNPS in desending order. AND the start and end sites. \n",
    "<br> Next step is to identify which version of the genome we want to render the data \n",
    "<br>Tell the data that it is derived from human\n",
    "\n",
    "</p>\n",
    "\n",
    "\n",
    "<h3><p style=\"color: #7393B3;\"> Find database (History Panel under title)</p></h3>\n",
    "\n",
    "<h4>1. Click on the question mark </h4>\n",
    "<h4>2. Scroll to \"Database/Build\"</h4>\n",
    "<p style=\"color: teal;\">\"Select human\"</p>\n",
    "\n",
    "\n",
    "<p style=\"color: pink;\">This will now change the \"?\" to \"hg38\"\n",
    "\n",
    "</p>\n",
    "\n",
    "<br>\n",
    "\n",
    "This should display something called \n",
    "'display at UCSC main' where main is a hyperlink to a genome browser to see exon of interest based on the coordinates you have. This should return information about the exon. \n",
    "\n",
    "\n",
    "This is not working out, moving on.\n",
    "\n",
    "\n",
    "\n",
    "\n",
    "<p style=\"color: pink;\">\n",
    "What you have created on the history panel is essential a workflow, and you want to do the same analysis on a different set of data. \n",
    "<br>You can extract workflow of this history by clicking the gear icon</p>\n",
    "  \n"
   ]
  },
  {
   "cell_type": "markdown",
   "metadata": {},
   "source": [
    "<p align=\"center\"><h1>Wednesday April 11th</h1></p>"
   ]
  },
  {
   "cell_type": "markdown",
   "metadata": {},
   "source": [
    "<h3>Parsing Fastq files with Biopython SeqIO moedule</h3>"
   ]
  },
  {
   "cell_type": "markdown",
   "metadata": {},
   "source": [
    "How to process a fastq file using a Biopython SeqIO module\n",
    "\n",
    "you can use this to identify peaks in the genome where heatshock factor binds and motif finding and what it looks like.\n",
    "\n",
    "**there are some other tools like skewer or fastq trimmer that you will most likely use instead. \n"
   ]
  },
  {
   "cell_type": "markdown",
   "metadata": {},
   "source": [
    "<h3> Setup RNA-seq pipeline from scratch: fastq (reads) to counts </h3>"
   ]
  },
  {
   "cell_type": "markdown",
   "metadata": {},
   "source": [
    "<img src=\"workflow.png\" alt=\"Example Image\" style=\"width: 600px;\"/>\n",
    "\n",
    "\n",
    "you can identify transcripts by mapping reads onto the genome\n",
    "\n",
    "well annotated genomes like human genome we can base RNA seq analysis based on existing annotioation and references available \n",
    "\n",
    "used rna seq data allele specific expression and disease assocated SNPs and gene fushions in cancer\n",
    "\n",
    "depending on the research goal the analysis can be selected and appropriately applied \n",
    "\n",
    "Schematic to process RNA seq reads\n",
    "\n",
    "First step \n",
    "- perform quality control of reads that are in fastq files\n",
    "    - use tools like \n",
    "        - fastq screen\n",
    "         - fastq c \n",
    "\n",
    "    - goal is to remove bases that are poor quality and adaptor sequences \n",
    "        - adapter sequences are ligated to the ends of DNA fragment to faciliate their amplification and sequencings and are needed for processing, but these are not a part of the original DNA/ RNA sample and contain no relevant biological information\n",
    "\n",
    "step 2\n",
    "- trimming step\n",
    "- tool\n",
    "    - timmermatic\n",
    "    - cut adapt \n",
    "\n",
    "step 3\n",
    "- map the reads to a genome or a transcriptome\n",
    "\n",
    "- mapping to a genome\n",
    "    - need to use splicedware aligners\n",
    "        - RNA seq reads are matured from mature mRNA which includes exons only and no introns so if you try to align this to the reference sequence which is not splicedware, it would try to map these rna seq reads to references containing intron wihch are not preseent in your RNA seq reads. thus, it will not be aligned. you need an aligner that will identify the downstream exons \n",
    "        - software\n",
    "            - star\n",
    "            - tophat 2\n",
    "            - high cycle\n",
    "\n",
    "- mapping to a transcriptome \n",
    "    - this tool does not report alignments, but associate a read to a given transcript for quantification. the output from these are \"Counts\"\n",
    "    -splicedunaware aligner\n",
    "        - software \n",
    "            - bowtie 2\n",
    "            - vwa\n",
    "    - quasi mapper\n",
    "        - software\n",
    "            - salmon\n",
    "            - kallistro\n",
    "\n",
    "\n",
    "\n",
    "Step 4\n",
    "\n",
    "Spliced aware and unaware aligners need to be further processed and quantifid to generate counts \n",
    "- softwards\n",
    "    - RSEM\n",
    "    - eXpress\n",
    "\n",
    "\n",
    "Step 5\n",
    "\n",
    "Once you have a count file, you can do a downstream analysis\n",
    "\n",
    "\n",
    "\n",
    "\n",
    "\n",
    "<img src=\"workflow 2.png\" alt=\"Example Image\" style=\"width: 600px;\"/>\n",
    "\n",
    "\n",
    "\n",
    "    \n",
    "\n",
    "\n",
    "\n",
    "\n",
    "\n",
    "\n"
   ]
  },
  {
   "cell_type": "markdown",
   "metadata": {},
   "source": [
    "<p align=\"center\"><h1>Monday April 22</h1></p>"
   ]
  },
  {
   "cell_type": "markdown",
   "metadata": {},
   "source": [
    "<img src=\"input seq data.png\" style=\"width: 600px;\"/>"
   ]
  }
 ],
 "metadata": {
  "kernelspec": {
   "display_name": "Python 3",
   "language": "python",
   "name": "python3"
  },
  "language_info": {
   "codemirror_mode": {
    "name": "ipython",
    "version": 3
   },
   "file_extension": ".py",
   "mimetype": "text/x-python",
   "name": "python",
   "nbconvert_exporter": "python",
   "pygments_lexer": "ipython3",
   "version": "3.11.7"
  }
 },
 "nbformat": 4,
 "nbformat_minor": 2
}
